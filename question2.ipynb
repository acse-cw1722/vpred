{
 "cells": [
  {
   "cell_type": "markdown",
   "metadata": {},
   "source": [
    "# Question 2: LSTM + CAE video frame prediction"
   ]
  },
  {
   "cell_type": "code",
   "execution_count": 1,
   "metadata": {},
   "outputs": [],
   "source": [
    "%load_ext autoreload\n",
    "%autoreload 2"
   ]
  },
  {
   "cell_type": "code",
   "execution_count": 2,
   "metadata": {},
   "outputs": [],
   "source": [
    "import torch\n",
    "import matplotlib.pyplot as plt\n",
    "import numpy as np"
   ]
  },
  {
   "cell_type": "markdown",
   "metadata": {},
   "source": [
    "Loading trained model form disk\n",
    "Make transform func to preprocess dataset"
   ]
  },
  {
   "cell_type": "code",
   "execution_count": 3,
   "metadata": {},
   "outputs": [],
   "source": [
    "# CAE reduced code dim = 16 in this case\n",
    "\n",
    "from CAE import Encoder, Decoder\n",
    "from torchvision.transforms import Lambda, Compose\n",
    "\n",
    "encoder_path = './encoder.pt'\n",
    "decoder_path = './decoder.pt'\n",
    "\n",
    "encoder = Encoder(code_dim=16)\n",
    "encoder.load_state_dict(torch.load(encoder_path));\n",
    "decoder = Decoder(code_dim=16)\n",
    "decoder.load_state_dict(torch.load(decoder_path));\n",
    "\n",
    "transform = Compose([\n",
    "    Lambda(lambda x: x / 255.),\n",
    "    Lambda(lambda x: encoder(x)),\n",
    "])"
   ]
  },
  {
   "cell_type": "markdown",
   "metadata": {},
   "source": [
    "Construct Dataset"
   ]
  },
  {
   "cell_type": "code",
   "execution_count": 4,
   "metadata": {},
   "outputs": [],
   "source": [
    "from lstm import FrameSeq\n",
    "\n",
    "train_data = FrameSeq(split='train', transform=transform)\n",
    "test_data = FrameSeq(split='test', transform=transform)"
   ]
  },
  {
   "cell_type": "code",
   "execution_count": 5,
   "metadata": {},
   "outputs": [
    {
     "name": "stdout",
     "output_type": "stream",
     "text": [
      "torch.Size([360, 4, 3, 128, 128])\n",
      "torch.Size([360, 4, 3, 128, 128])\n"
     ]
    }
   ],
   "source": [
    "print(train_data.before.shape)\n",
    "print(train_data.after.shape)"
   ]
  },
  {
   "cell_type": "markdown",
   "metadata": {},
   "source": [
    "Build Dataloader"
   ]
  },
  {
   "cell_type": "code",
   "execution_count": 6,
   "metadata": {},
   "outputs": [],
   "source": [
    "from torch.utils.data import DataLoader\n",
    "\n",
    "batch_size = 16\n",
    "\n",
    "train_loader = DataLoader(train_data, batch_size=batch_size, shuffle=True)\n",
    "test_loader = DataLoader(test_data, batch_size=batch_size, shuffle=True)"
   ]
  },
  {
   "cell_type": "code",
   "execution_count": 7,
   "metadata": {},
   "outputs": [],
   "source": [
    "sample = next(iter(train_loader))"
   ]
  },
  {
   "cell_type": "markdown",
   "metadata": {},
   "source": [
    "Build LSTM Model for training"
   ]
  },
  {
   "cell_type": "code",
   "execution_count": 8,
   "metadata": {},
   "outputs": [],
   "source": [
    "from lstm import LSTMModel\n",
    "\n",
    "lstm = LSTMModel()"
   ]
  },
  {
   "cell_type": "markdown",
   "metadata": {},
   "source": [
    "Train the model"
   ]
  },
  {
   "cell_type": "code",
   "execution_count": 9,
   "metadata": {},
   "outputs": [
    {
     "name": "stdout",
     "output_type": "stream",
     "text": [
      "23\n",
      "6\n"
     ]
    }
   ],
   "source": [
    "print(train_loader.__len__())\n",
    "print(test_loader.__len__())"
   ]
  },
  {
   "cell_type": "code",
   "execution_count": 10,
   "metadata": {},
   "outputs": [
    {
     "name": "stdout",
     "output_type": "stream",
     "text": [
      "EPOCH 1/10 \t train loss: 2092.306640625\t test loss: 2417.160400390625\n",
      "EPOCH 2/10 \t train loss: 1699.5667724609375\t test loss: 2334.718505859375\n",
      "EPOCH 3/10 \t train loss: 1349.1669921875\t test loss: 1670.7020263671875\n",
      "EPOCH 4/10 \t train loss: 1156.5113525390625\t test loss: 1473.3509521484375\n",
      "EPOCH 5/10 \t train loss: 1014.0416870117188\t test loss: 1513.3089599609375\n",
      "EPOCH 6/10 \t train loss: 946.7994384765625\t test loss: 1428.9256591796875\n",
      "EPOCH 7/10 \t train loss: 908.5946044921875\t test loss: 1437.6201171875\n",
      "EPOCH 8/10 \t train loss: 869.1699829101562\t test loss: 1664.0745849609375\n",
      "EPOCH 9/10 \t train loss: 862.1868896484375\t test loss: 1693.5538330078125\n",
      "EPOCH 10/10 \t train loss: 818.7551879882812\t test loss: 1428.5108642578125\n"
     ]
    }
   ],
   "source": [
    "from lstm import LSTMModel, FF\n",
    "model = LSTMModel()\n",
    "# model = FF()\n",
    "lr = 0.01\n",
    "wd=1e-3\n",
    "epoch = 10\n",
    "\n",
    "optimizer = torch.optim.Adam(\n",
    "    model.parameters(), lr=lr, weight_decay=wd\n",
    ")\n",
    "criterion = torch.nn.MSELoss()\n",
    "\n",
    "def train_epoch(model, optimizer, criterion, loader):\n",
    "    model.train()\n",
    "    train_loss = []\n",
    "    for X, T in loader:\n",
    "        pred = model(X)\n",
    "        # print(X.mean().detach(), pred.mean().detach(), T.mean().detach())\n",
    "        # print(X.max().detach(), pred.max().detach(), T.max().detach())\n",
    "        # print(X.min().detach(), pred.min().detach(), T.min().detach())\n",
    "        # print()\n",
    "        optimizer.zero_grad()\n",
    "        # print('***', pred.shape, T.shape)\n",
    "        # print(pred.dtype, T.dtype)\n",
    "        loss = criterion(pred, T)\n",
    "        loss.backward()\n",
    "        optimizer.step()\n",
    "        train_loss.append(loss.detach())\n",
    "        # print('train_loss', train_loss)\n",
    "    return np.mean(train_loss)\n",
    "\n",
    "def test_epoch(model, criterion, loader):\n",
    "    model.eval()\n",
    "    test_loss = []\n",
    "    with torch.no_grad():\n",
    "        for X, T in loader:\n",
    "            pred = model(X)\n",
    "            loss = criterion(pred, T)\n",
    "            test_loss.append(loss)\n",
    "            # print('testlost', test_loss)\n",
    "    return np.mean(test_loss)\n",
    "\n",
    "def train(\n",
    "    model, optimizer, criterion, train_loader,\n",
    "    test_loader, epoch):\n",
    "    for i in range(epoch):\n",
    "        train_loss = train_epoch(\n",
    "            model, optimizer, criterion, train_loader\n",
    "        )\n",
    "        test_loss = test_epoch(\n",
    "            model, criterion, test_loader\n",
    "        )\n",
    "        print(\n",
    "            f'''EPOCH {i + 1}/{epoch} \\t train loss: {train_loss}\\t test loss: {test_loss}'''\n",
    "        )\n",
    "\n",
    "train(model, optimizer, criterion, train_loader, test_loader, epoch)"
   ]
  },
  {
   "attachments": {},
   "cell_type": "markdown",
   "metadata": {},
   "source": [
    "data visualization"
   ]
  },
  {
   "cell_type": "code",
   "execution_count": 11,
   "metadata": {},
   "outputs": [
    {
     "name": "stderr",
     "output_type": "stream",
     "text": [
      "Clipping input data to the valid range for imshow with RGB data ([0..1] for floats or [0..255] for integers).\n",
      "Clipping input data to the valid range for imshow with RGB data ([0..1] for floats or [0..255] for integers).\n",
      "Clipping input data to the valid range for imshow with RGB data ([0..1] for floats or [0..255] for integers).\n",
      "Clipping input data to the valid range for imshow with RGB data ([0..1] for floats or [0..255] for integers).\n",
      "Clipping input data to the valid range for imshow with RGB data ([0..1] for floats or [0..255] for integers).\n",
      "Clipping input data to the valid range for imshow with RGB data ([0..1] for floats or [0..255] for integers).\n",
      "Clipping input data to the valid range for imshow with RGB data ([0..1] for floats or [0..255] for integers).\n",
      "Clipping input data to the valid range for imshow with RGB data ([0..1] for floats or [0..255] for integers).\n"
     ]
    },
    {
     "data": {
      "image/png": "[encoded data removed]",
      "text/plain": [
       "<Figure size 640x480 with 4 Axes>"
      ]
     },
     "metadata": {},
     "output_type": "display_data"
    },
    {
     "data": {
      "image/png": "[encoded data removed]",
      "text/plain": [
       "<Figure size 640x480 with 4 Axes>"
      ]
     },
     "metadata": {},
     "output_type": "display_data"
    }
   ],
   "source": [
    "def show_seq(seq, title):\n",
    "    fig, axs = plt.subplots(1, 4)\n",
    "    for i in range(4):\n",
    "        axs[i].imshow(seq[i].permute(1, 2, 0));\n",
    "        axs[i].set_title('title')\n",
    "\n",
    "def visualize(model, loader, idx):\n",
    "    with torch.no_grad():\n",
    "        for X, T in loader:\n",
    "            # print('in loop', T.shape)\n",
    "            bs = X.shape[0] # batch size\n",
    "            lat_pred = model(X) # predicted latent space representation\n",
    "            # print('lat_pred dim', lat_pred.shape)\n",
    "            pred_input = lat_pred.reshape(-1, 16) \n",
    "            targ_input = T.reshape(-1, 16)\n",
    "            # print('input shape', pred_input.shape, targ_input.shape) # reshape for decoder input\n",
    "            pred_out = decoder(pred_input) # out put from decoder\n",
    "            targ_out = decoder(targ_input)\n",
    "            # print('output shape', pred_out.shape, targ_out.shape)\n",
    "            pred_res = pred_out.reshape(bs, 4, 3, 128, 128)\n",
    "            targ_out = targ_out.reshape(bs, 4, 3, 128, 128)\n",
    "            # print('res shape', pred_res.shape, targ_out.shape)\n",
    "            show_seq(targ_out[idx], 'decoded img')\n",
    "            show_seq(pred_res[idx], 'lstm decoded img')\n",
    "            break\n",
    "\n",
    "visualize(model, test_loader, 10)"
   ]
  },
  {
   "attachments": {},
   "cell_type": "markdown",
   "metadata": {},
   "source": [
    "model evaluation"
   ]
  },
  {
   "cell_type": "code",
   "execution_count": 12,
   "metadata": {},
   "outputs": [],
   "source": [
    "def RMSELoss(pred, target):\n",
    "    return torch.sqrt(torch.square(pred - target)).mean().detach().numpy()\n",
    "\n",
    "def evaluate(model, loader, criterion):\n",
    "    model.eval()\n",
    "    loss = []\n",
    "    with torch.no_grad():\n",
    "        for X, T in loader:\n",
    "            bs = X.shape[0] # batch size\n",
    "            lat_pred = model(X) # predicted latent space representation\n",
    "            # print('lat_pred dim', lat_pred.shape)\n",
    "            pred_input = lat_pred.reshape(-1, 16) \n",
    "            targ_input = T.reshape(-1, 16)\n",
    "            # print('input shape', pred_input.shape, targ_input.shape) # reshape for decoder input\n",
    "            pred_out = decoder(pred_input) # out put from decoder\n",
    "            targ_out = decoder(targ_input)\n",
    "            # print('output shape', pred_out.shape, targ_out.shape)\n",
    "            pred_res = pred_out.reshape(-1, 3, 128, 128)\n",
    "            targ_out = targ_out.reshape(-1, 3, 128, 128)\n",
    "            cur_loss = criterion(pred_res, targ_out)\n",
    "            loss.append(cur_loss)\n",
    "    return np.mean(loss)\n"
   ]
  },
  {
   "cell_type": "code",
   "execution_count": 13,
   "metadata": {},
   "outputs": [
    {
     "name": "stdout",
     "output_type": "stream",
     "text": [
      "MSELoss:  0.016622486\n"
     ]
    }
   ],
   "source": [
    "print('MSELoss: ', evaluate(model, test_loader, torch.nn.MSELoss()))"
   ]
  },
  {
   "cell_type": "code",
   "execution_count": 14,
   "metadata": {},
   "outputs": [
    {
     "name": "stdout",
     "output_type": "stream",
     "text": [
      "RMSELoss:  0.018533567\n"
     ]
    }
   ],
   "source": [
    "print('RMSELoss: ', evaluate(model, test_loader, RMSELoss))"
   ]
  },
  {
   "cell_type": "code",
   "execution_count": 15,
   "metadata": {},
   "outputs": [
    {
     "name": "stdout",
     "output_type": "stream",
     "text": [
      "SSIM:  0.9317786\n"
     ]
    }
   ],
   "source": [
    "from skimage.metrics import structural_similarity\n",
    "\n",
    "def ssim(x, y):\n",
    "    x = x.detach().numpy()\n",
    "    y = y.detach().numpy()\n",
    "    return np.mean([structural_similarity(x[i], y[i], channel_axis=0) for i in range(len(x))])\n",
    "\n",
    "print('SSIM: ', evaluate(model, test_loader, ssim))"
   ]
  },
  {
   "cell_type": "code",
   "execution_count": null,
   "metadata": {},
   "outputs": [],
   "source": []
  }
 ],
 "metadata": {
  "kernelspec": {
   "display_name": "Python 3.10.8 ('ml')",
   "language": "python",
   "name": "python3"
  },
  "language_info": {
   "codemirror_mode": {
    "name": "ipython",
    "version": 3
   },
   "file_extension": ".py",
   "mimetype": "text/x-python",
   "name": "python",
   "nbconvert_exporter": "python",
   "pygments_lexer": "ipython3",
   "version": "3.10.8"
  },
  "orig_nbformat": 4,
  "vscode": {
   "interpreter": {
    "hash": "5ed8b0038942eb73d475d4a04b9294a3fd89ca8a19c2df5fd1700a0be992ce7c"
   }
  }
 },
 "nbformat": 4,
 "nbformat_minor": 2
}
